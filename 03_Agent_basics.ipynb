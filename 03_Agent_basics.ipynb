{
 "cells": [
  {
   "cell_type": "code",
   "execution_count": 132,
   "metadata": {},
   "outputs": [
    {
     "data": {
      "text/plain": [
       "True"
      ]
     },
     "execution_count": 132,
     "metadata": {},
     "output_type": "execute_result"
    }
   ],
   "source": [
    "from dotenv import load_dotenv\n",
    "\n",
    "load_dotenv()"
   ]
  },
  {
   "cell_type": "code",
   "execution_count": 133,
   "metadata": {},
   "outputs": [],
   "source": [
    "from langgraph.graph import END, START, StateGraph, MessagesState\n",
    "from langchain_openai import ChatOpenAI\n",
    "from langchain_core.tools import tool\n",
    "from langgraph.prebuilt import ToolNode\n",
    "from typing import Literal"
   ]
  },
  {
   "cell_type": "code",
   "execution_count": 134,
   "metadata": {},
   "outputs": [],
   "source": [
    "@tool\n",
    "def get_weather(location: str):\n",
    "    \"\"\"Call to get the current weather.\"\"\"\n",
    "    if location.lower() in [\"munich\"]:\n",
    "        return \"It's 15 degrees Celsius and cloudy.\"\n",
    "    else:\n",
    "        return \"It's 32 degrees Celsius and sunny.\""
   ]
  },
  {
   "cell_type": "code",
   "execution_count": 135,
   "metadata": {},
   "outputs": [
    {
     "data": {
      "text/plain": [
       "\"It's 15 degrees Celsius and cloudy.\""
      ]
     },
     "execution_count": 135,
     "metadata": {},
     "output_type": "execute_result"
    }
   ],
   "source": [
    "get_weather.invoke(input={\"location\": \"munich\"})"
   ]
  },
  {
   "cell_type": "code",
   "execution_count": 136,
   "metadata": {},
   "outputs": [
    {
     "data": {
      "text/plain": [
       "\"It's 32 degrees Celsius and sunny.\""
      ]
     },
     "execution_count": 136,
     "metadata": {},
     "output_type": "execute_result"
    }
   ],
   "source": [
    "get_weather.invoke(input={\"location\": \"chicago\"})"
   ]
  },
  {
   "cell_type": "code",
   "execution_count": 137,
   "metadata": {},
   "outputs": [],
   "source": [
    "tools = [get_weather]\n",
    "model = ChatOpenAI(model=\"gpt-4o-mini\").bind_tools(tools)"
   ]
  },
  {
   "cell_type": "code",
   "execution_count": 138,
   "metadata": {},
   "outputs": [
    {
     "data": {
      "text/plain": [
       "AIMessage(content='I am a large language model, trained by Google.', additional_kwargs={}, response_metadata={'prompt_feedback': {'block_reason': 0, 'safety_ratings': []}, 'finish_reason': 'STOP', 'safety_ratings': []}, id='run-fb85ddd8-03a5-45c2-bae4-9a01de9ef183-0', usage_metadata={'input_tokens': 46, 'output_tokens': 11, 'total_tokens': 57, 'input_token_details': {'cache_read': 0}})"
      ]
     },
     "execution_count": 138,
     "metadata": {},
     "output_type": "execute_result"
    }
   ],
   "source": [
    "from dotenv import load_dotenv, find_dotenv\n",
    "\n",
    "load_dotenv(find_dotenv())\n",
    "\n",
    "import os\n",
    "google_api_key=os.getenv(\"GEMINI_API_KEY\")\n",
    "\n",
    "from langchain_google_genai import ChatGoogleGenerativeAI\n",
    "\n",
    "model = ChatGoogleGenerativeAI(\n",
    "    model=\"gemini-2.5-flash-lite-preview-06-17\",  # or another model like \"gemini-1.5-pro\"\n",
    "    temperature=0.5,\n",
    "    google_api_key = google_api_key\n",
    ")\n",
    "tools = [get_weather]\n",
    "\n",
    "model = model.bind_tools(tools)\n",
    "\n",
    "model.invoke(\"Hello!! Who are you?\")"
   ]
  },
  {
   "cell_type": "code",
   "execution_count": 139,
   "metadata": {},
   "outputs": [
    {
     "data": {
      "text/plain": [
       "AIMessage(content='Hello! How can I help you today?', additional_kwargs={}, response_metadata={'prompt_feedback': {'block_reason': 0, 'safety_ratings': []}, 'finish_reason': 'STOP', 'safety_ratings': []}, id='run-3a351e5d-369b-4561-aef6-d1f9ea5d49dc-0', usage_metadata={'input_tokens': 41, 'output_tokens': 9, 'total_tokens': 50, 'input_token_details': {'cache_read': 0}})"
      ]
     },
     "execution_count": 139,
     "metadata": {},
     "output_type": "execute_result"
    }
   ],
   "source": [
    "model.invoke(\"hello\")"
   ]
  },
  {
   "cell_type": "code",
   "execution_count": 140,
   "metadata": {},
   "outputs": [
    {
     "data": {
      "text/plain": [
       "AIMessage(content='I do not have the ability to look up stock prices. I can provide you with weather information.', additional_kwargs={}, response_metadata={'prompt_feedback': {'block_reason': 0, 'safety_ratings': []}, 'finish_reason': 'STOP', 'safety_ratings': []}, id='run-cb42c4ee-7c80-49e6-9915-6cdefc81dd94-0', usage_metadata={'input_tokens': 51, 'output_tokens': 20, 'total_tokens': 71, 'input_token_details': {'cache_read': 0}})"
      ]
     },
     "execution_count": 140,
     "metadata": {},
     "output_type": "execute_result"
    }
   ],
   "source": [
    "model.invoke(\"Hi, what is S&P Global stock price?\")"
   ]
  },
  {
   "cell_type": "code",
   "execution_count": 141,
   "metadata": {},
   "outputs": [
    {
     "data": {
      "text/plain": [
       "AIMessage(content='', additional_kwargs={'function_call': {'name': 'get_weather', 'arguments': '{\"location\": \"munich\"}'}}, response_metadata={'prompt_feedback': {'block_reason': 0, 'safety_ratings': []}, 'finish_reason': 'STOP', 'safety_ratings': []}, id='run-2bfea393-0c11-457e-95a1-5b1dc2337265-0', tool_calls=[{'name': 'get_weather', 'args': {'location': 'munich'}, 'id': '184e3592-55b1-43b6-b825-41ac015cb1ee', 'type': 'tool_call'}], usage_metadata={'input_tokens': 48, 'output_tokens': 16, 'total_tokens': 64, 'input_token_details': {'cache_read': 0}})"
      ]
     },
     "execution_count": 141,
     "metadata": {},
     "output_type": "execute_result"
    }
   ],
   "source": [
    "model.invoke(\"How is the weather in munich?\")"
   ]
  },
  {
   "cell_type": "code",
   "execution_count": 142,
   "metadata": {},
   "outputs": [],
   "source": [
    "def call_model(state: MessagesState):\n",
    "    messages = state[\"messages\"]\n",
    "    response = model.invoke(messages)\n",
    "    return {\"messages\": [response]}\n",
    "\n",
    "\n",
    "def should_continue(state: MessagesState) -> Literal[\"tools\", END]:\n",
    "    messages = state[\"messages\"]\n",
    "    last_message = messages[-1]\n",
    "    if last_message.tool_calls:\n",
    "        return \"tools\"\n",
    "    return END"
   ]
  },
  {
   "cell_type": "code",
   "execution_count": 143,
   "metadata": {},
   "outputs": [
    {
     "data": {
      "text/plain": [
       "<langgraph.graph.state.StateGraph at 0x11c79a390>"
      ]
     },
     "execution_count": 143,
     "metadata": {},
     "output_type": "execute_result"
    }
   ],
   "source": [
    "workflow = StateGraph(MessagesState)\n",
    "tool_node = ToolNode(tools)\n",
    "\n",
    "workflow.add_node(\"agent\", call_model)\n",
    "workflow.add_node(\"tools\", tool_node)"
   ]
  },
  {
   "cell_type": "code",
   "execution_count": 144,
   "metadata": {},
   "outputs": [
    {
     "data": {
      "text/plain": [
       "<langgraph.graph.state.StateGraph at 0x11c79a390>"
      ]
     },
     "execution_count": 144,
     "metadata": {},
     "output_type": "execute_result"
    }
   ],
   "source": [
    "workflow.add_edge(START, \"agent\")\n",
    "\n",
    "workflow.add_conditional_edges(\n",
    "    \"agent\",\n",
    "    should_continue,\n",
    ")\n",
    "workflow.add_edge(\"tools\", \"agent\")"
   ]
  },
  {
   "cell_type": "code",
   "execution_count": 145,
   "metadata": {},
   "outputs": [],
   "source": [
    "graph = workflow.compile()"
   ]
  },
  {
   "cell_type": "code",
   "execution_count": 146,
   "metadata": {},
   "outputs": [
    {
     "data": {
      "image/png": "[encoded data removed]",
      "text/plain": [
       "<IPython.core.display.Image object>"
      ]
     },
     "metadata": {},
     "output_type": "display_data"
    }
   ],
   "source": [
    "from IPython.display import Image, display\n",
    "from langchain_core.runnables.graph import MermaidDrawMethod\n",
    "\n",
    "display(\n",
    "    Image(\n",
    "        graph.get_graph().draw_mermaid_png(\n",
    "            draw_method=MermaidDrawMethod.API,\n",
    "        )\n",
    "    )\n",
    ")"
   ]
  },
  {
   "cell_type": "code",
   "execution_count": 147,
   "metadata": {},
   "outputs": [
    {
     "name": "stdout",
     "output_type": "stream",
     "text": [
      "Hi, who is ambani\n",
      "I am sorry, I cannot help with that. My capabilities are limited to providing information about the weather.\n"
     ]
    }
   ],
   "source": [
    "runnable = workflow.compile()\n",
    "\n",
    "output = runnable.invoke({\n",
    "    \"messages\": [HumanMessage(content=\"Hi, who is ambani\"),]\n",
    "})\n",
    "\n",
    "for m in output[\"messages\"]:\n",
    "    print(m.content)\n"
   ]
  },
  {
   "cell_type": "code",
   "execution_count": 148,
   "metadata": {},
   "outputs": [],
   "source": [
    "from langchain_core.messages import HumanMessage\n",
    "\n",
    "messages1 = [HumanMessage(content=\"Hello, how are you?\")]\n",
    "messages2 = [HumanMessage(content=\"How is the weather in munich?\")]\n",
    "messages3 = [HumanMessage(content=\"What would you recommend to do in that city than?\")]"
   ]
  },
  {
   "cell_type": "code",
   "execution_count": 149,
   "metadata": {},
   "outputs": [
    {
     "data": {
      "text/plain": [
       "{'messages': [HumanMessage(content='Hello, how are you?', additional_kwargs={}, response_metadata={}, id='b579ad14-7e6b-470a-ab99-8f0f0ef8d551'),\n",
       "  AIMessage(content=\"Hello! I'm doing well, thank you for asking. How can I help you today?\", additional_kwargs={}, response_metadata={'prompt_feedback': {'block_reason': 0, 'safety_ratings': []}, 'finish_reason': 'STOP', 'safety_ratings': []}, id='run-547c5f97-e6de-4a74-a8a6-915649ef2ea8-0', usage_metadata={'input_tokens': 46, 'output_tokens': 20, 'total_tokens': 66, 'input_token_details': {'cache_read': 0}})]}"
      ]
     },
     "execution_count": 149,
     "metadata": {},
     "output_type": "execute_result"
    }
   ],
   "source": [
    "graph.invoke({\"messages\": messages1})"
   ]
  },
  {
   "cell_type": "code",
   "execution_count": 150,
   "metadata": {},
   "outputs": [
    {
     "data": {
      "text/plain": [
       "{'messages': [HumanMessage(content='How is the weather in munich?', additional_kwargs={}, response_metadata={}, id='57d2e67a-3643-460a-b08e-760bf9c57391'),\n",
       "  AIMessage(content='', additional_kwargs={'function_call': {'name': 'get_weather', 'arguments': '{\"location\": \"munich\"}'}}, response_metadata={'prompt_feedback': {'block_reason': 0, 'safety_ratings': []}, 'finish_reason': 'STOP', 'safety_ratings': []}, id='run-35425e91-9aa9-4ef5-bf0e-4b2e3fc2b190-0', tool_calls=[{'name': 'get_weather', 'args': {'location': 'munich'}, 'id': '7181ea49-bf69-4597-88e0-c610a3f61169', 'type': 'tool_call'}], usage_metadata={'input_tokens': 48, 'output_tokens': 16, 'total_tokens': 64, 'input_token_details': {'cache_read': 0}}),\n",
       "  ToolMessage(content=\"It's 15 degrees Celsius and cloudy.\", name='get_weather', id='5bdcb732-5ef9-4eca-84b4-777eb9de2232', tool_call_id='7181ea49-bf69-4597-88e0-c610a3f61169'),\n",
       "  AIMessage(content=\"It's 15 degrees Celsius and cloudy.\", additional_kwargs={}, response_metadata={'prompt_feedback': {'block_reason': 0, 'safety_ratings': []}, 'finish_reason': 'STOP', 'safety_ratings': []}, id='run-1ba46d85-b53b-4393-b2cd-a45891a7b5aa-0', usage_metadata={'input_tokens': 89, 'output_tokens': 11, 'total_tokens': 100, 'input_token_details': {'cache_read': 0}})]}"
      ]
     },
     "execution_count": 150,
     "metadata": {},
     "output_type": "execute_result"
    }
   ],
   "source": [
    "graph.invoke({\"messages\": messages2})"
   ]
  },
  {
   "cell_type": "code",
   "execution_count": 151,
   "metadata": {},
   "outputs": [
    {
     "data": {
      "text/plain": [
       "{'messages': [HumanMessage(content='What would you recommend to do in that city than?', additional_kwargs={}, response_metadata={}, id='9f246a9f-ae31-4a5b-903e-57576c1a9736'),\n",
       "  AIMessage(content='I need to know which city you are referring to before I can make recommendations. Can you please tell me the city name?', additional_kwargs={}, response_metadata={'prompt_feedback': {'block_reason': 0, 'safety_ratings': []}, 'finish_reason': 'STOP', 'safety_ratings': []}, id='run-b2170ba3-9749-4117-9eea-53888c51d5fb-0', usage_metadata={'input_tokens': 51, 'output_tokens': 25, 'total_tokens': 76, 'input_token_details': {'cache_read': 0}})]}"
      ]
     },
     "execution_count": 151,
     "metadata": {},
     "output_type": "execute_result"
    }
   ],
   "source": [
    "graph.invoke({\"messages\": messages3})"
   ]
  },
  {
   "cell_type": "code",
   "execution_count": 152,
   "metadata": {},
   "outputs": [
    {
     "data": {
      "text/plain": [
       "{'messages': [HumanMessage(content='What would you recommend to do in that city than?', additional_kwargs={}, response_metadata={}, id='74caff34-2063-4e1e-b1b1-5c33853f4670'),\n",
       "  AIMessage(content='I need to know which city you are referring to before I can make recommendations. Can you please tell me the city name?', additional_kwargs={}, response_metadata={'prompt_feedback': {'block_reason': 0, 'safety_ratings': []}, 'finish_reason': 'STOP', 'safety_ratings': []}, id='run-a3c0a227-ff71-43df-bc18-b8115bfc970d-0', usage_metadata={'input_tokens': 51, 'output_tokens': 25, 'total_tokens': 76, 'input_token_details': {'cache_read': 0}})]}"
      ]
     },
     "execution_count": 152,
     "metadata": {},
     "output_type": "execute_result"
    }
   ],
   "source": [
    "graph.invoke(\n",
    "    {\n",
    "        \"messages\": [\n",
    "            HumanMessage(content=\"What would you recommend to do in that city than?\")\n",
    "        ]\n",
    "    }\n",
    ")"
   ]
  },
  {
   "cell_type": "markdown",
   "metadata": {},
   "source": [
    "### Add Memory to chatbot"
   ]
  },
  {
   "cell_type": "code",
   "execution_count": 153,
   "metadata": {},
   "outputs": [],
   "source": [
    "from langgraph.checkpoint.memory import MemorySaver\n",
    "\n",
    "checkpointer = MemorySaver()"
   ]
  },
  {
   "cell_type": "code",
   "execution_count": 154,
   "metadata": {},
   "outputs": [],
   "source": [
    "workflow = StateGraph(MessagesState)\n",
    "\n",
    "workflow.add_node(\"agent\", call_model)\n",
    "workflow.add_node(\"tools\", tool_node)\n",
    "\n",
    "workflow.add_edge(START, \"agent\")\n",
    "\n",
    "workflow.add_conditional_edges(\n",
    "    \"agent\",\n",
    "    should_continue,\n",
    ")\n",
    "workflow.add_edge(\"tools\", \"agent\")\n",
    "\n",
    "graph = workflow.compile(checkpointer=checkpointer)"
   ]
  },
  {
   "cell_type": "code",
   "execution_count": 160,
   "metadata": {},
   "outputs": [
    {
     "data": {
      "image/png": "[encoded data removed]",
      "text/plain": [
       "<IPython.core.display.Image object>"
      ]
     },
     "metadata": {},
     "output_type": "display_data"
    }
   ],
   "source": [
    "from IPython.display import Image, display\n",
    "from langchain_core.runnables.graph import MermaidDrawMethod\n",
    "\n",
    "display(\n",
    "    Image(\n",
    "        graph.get_graph().draw_mermaid_png(\n",
    "            draw_method=MermaidDrawMethod.API,\n",
    "        )\n",
    "    )\n",
    ")"
   ]
  },
  {
   "cell_type": "code",
   "execution_count": 155,
   "metadata": {},
   "outputs": [
    {
     "data": {
      "text/plain": [
       "{'messages': [HumanMessage(content='How is the weather in munich?', additional_kwargs={}, response_metadata={}, id='92f1586c-a6c3-4166-bfc0-9480c1830c36'),\n",
       "  AIMessage(content='', additional_kwargs={'function_call': {'name': 'get_weather', 'arguments': '{\"location\": \"munich\"}'}}, response_metadata={'prompt_feedback': {'block_reason': 0, 'safety_ratings': []}, 'finish_reason': 'STOP', 'safety_ratings': []}, id='run-f8427cf9-64b5-4cb2-95ae-3de65c959fc2-0', tool_calls=[{'name': 'get_weather', 'args': {'location': 'munich'}, 'id': '9e0d4f2f-c87d-4be3-a798-4f96fdbe015d', 'type': 'tool_call'}], usage_metadata={'input_tokens': 48, 'output_tokens': 16, 'total_tokens': 64, 'input_token_details': {'cache_read': 0}}),\n",
       "  ToolMessage(content=\"It's 15 degrees Celsius and cloudy.\", name='get_weather', id='0ad90faf-f16b-4aea-b5a1-679c53dac4ae', tool_call_id='9e0d4f2f-c87d-4be3-a798-4f96fdbe015d'),\n",
       "  AIMessage(content=\"It's 15 degrees Celsius and cloudy.\", additional_kwargs={}, response_metadata={'prompt_feedback': {'block_reason': 0, 'safety_ratings': []}, 'finish_reason': 'STOP', 'safety_ratings': []}, id='run-921f51ee-1bc6-40b4-bc71-22e52dbec8cb-0', usage_metadata={'input_tokens': 89, 'output_tokens': 11, 'total_tokens': 100, 'input_token_details': {'cache_read': 0}})]}"
      ]
     },
     "execution_count": 155,
     "metadata": {},
     "output_type": "execute_result"
    }
   ],
   "source": [
    "graph.invoke(\n",
    "    {\"messages\": [HumanMessage(content=\"How is the weather in munich?\")]},\n",
    "    config={\"configurable\": {\"thread_id\": 1}},\n",
    ")"
   ]
  },
  {
   "cell_type": "code",
   "execution_count": 156,
   "metadata": {},
   "outputs": [
    {
     "data": {
      "text/plain": [
       "{'messages': [HumanMessage(content='How is the weather in munich?', additional_kwargs={}, response_metadata={}, id='92f1586c-a6c3-4166-bfc0-9480c1830c36'),\n",
       "  AIMessage(content='', additional_kwargs={'function_call': {'name': 'get_weather', 'arguments': '{\"location\": \"munich\"}'}}, response_metadata={'prompt_feedback': {'block_reason': 0, 'safety_ratings': []}, 'finish_reason': 'STOP', 'safety_ratings': []}, id='run-f8427cf9-64b5-4cb2-95ae-3de65c959fc2-0', tool_calls=[{'name': 'get_weather', 'args': {'location': 'munich'}, 'id': '9e0d4f2f-c87d-4be3-a798-4f96fdbe015d', 'type': 'tool_call'}], usage_metadata={'input_tokens': 48, 'output_tokens': 16, 'total_tokens': 64, 'input_token_details': {'cache_read': 0}}),\n",
       "  ToolMessage(content=\"It's 15 degrees Celsius and cloudy.\", name='get_weather', id='0ad90faf-f16b-4aea-b5a1-679c53dac4ae', tool_call_id='9e0d4f2f-c87d-4be3-a798-4f96fdbe015d'),\n",
       "  AIMessage(content=\"It's 15 degrees Celsius and cloudy.\", additional_kwargs={}, response_metadata={'prompt_feedback': {'block_reason': 0, 'safety_ratings': []}, 'finish_reason': 'STOP', 'safety_ratings': []}, id='run-921f51ee-1bc6-40b4-bc71-22e52dbec8cb-0', usage_metadata={'input_tokens': 89, 'output_tokens': 11, 'total_tokens': 100, 'input_token_details': {'cache_read': 0}}),\n",
       "  HumanMessage(content='What would you recommend to do in that city than?', additional_kwargs={}, response_metadata={}, id='22702d4f-4d81-4b7f-b0be-73610db511b9'),\n",
       "  AIMessage(content=\"Since it's cloudy, you might enjoy visiting the Deutsches Museum, which offers a wide range of exhibits on science and technology. Alternatively, you could explore the historic Residenz, the former royal palace of Bavaria, which has beautiful courtyards and opulent rooms to discover.\", additional_kwargs={}, response_metadata={'prompt_feedback': {'block_reason': 0, 'safety_ratings': []}, 'finish_reason': 'STOP', 'safety_ratings': []}, id='run-61ef5843-d3ea-4c5d-b303-d326c4662356-0', usage_metadata={'input_tokens': 113, 'output_tokens': 56, 'total_tokens': 169, 'input_token_details': {'cache_read': 0}})]}"
      ]
     },
     "execution_count": 156,
     "metadata": {},
     "output_type": "execute_result"
    }
   ],
   "source": [
    "graph.invoke(\n",
    "    {\n",
    "        \"messages\": [\n",
    "            HumanMessage(content=\"What would you recommend to do in that city than?\")\n",
    "        ]\n",
    "    }\n",
    "    ,config={\"configurable\": {\"thread_id\": 1}},\n",
    ")"
   ]
  },
  {
   "cell_type": "code",
   "execution_count": 157,
   "metadata": {},
   "outputs": [
    {
     "data": {
      "text/plain": [
       "{'messages': [HumanMessage(content='How is the weather in munich?', additional_kwargs={}, response_metadata={}, id='92f1586c-a6c3-4166-bfc0-9480c1830c36'),\n",
       "  AIMessage(content='', additional_kwargs={'function_call': {'name': 'get_weather', 'arguments': '{\"location\": \"munich\"}'}}, response_metadata={'prompt_feedback': {'block_reason': 0, 'safety_ratings': []}, 'finish_reason': 'STOP', 'safety_ratings': []}, id='run-f8427cf9-64b5-4cb2-95ae-3de65c959fc2-0', tool_calls=[{'name': 'get_weather', 'args': {'location': 'munich'}, 'id': '9e0d4f2f-c87d-4be3-a798-4f96fdbe015d', 'type': 'tool_call'}], usage_metadata={'input_tokens': 48, 'output_tokens': 16, 'total_tokens': 64, 'input_token_details': {'cache_read': 0}}),\n",
       "  ToolMessage(content=\"It's 15 degrees Celsius and cloudy.\", name='get_weather', id='0ad90faf-f16b-4aea-b5a1-679c53dac4ae', tool_call_id='9e0d4f2f-c87d-4be3-a798-4f96fdbe015d'),\n",
       "  AIMessage(content=\"It's 15 degrees Celsius and cloudy.\", additional_kwargs={}, response_metadata={'prompt_feedback': {'block_reason': 0, 'safety_ratings': []}, 'finish_reason': 'STOP', 'safety_ratings': []}, id='run-921f51ee-1bc6-40b4-bc71-22e52dbec8cb-0', usage_metadata={'input_tokens': 89, 'output_tokens': 11, 'total_tokens': 100, 'input_token_details': {'cache_read': 0}}),\n",
       "  HumanMessage(content='What would you recommend to do in that city than?', additional_kwargs={}, response_metadata={}, id='22702d4f-4d81-4b7f-b0be-73610db511b9'),\n",
       "  AIMessage(content=\"Since it's cloudy, you might enjoy visiting the Deutsches Museum, which offers a wide range of exhibits on science and technology. Alternatively, you could explore the historic Residenz, the former royal palace of Bavaria, which has beautiful courtyards and opulent rooms to discover.\", additional_kwargs={}, response_metadata={'prompt_feedback': {'block_reason': 0, 'safety_ratings': []}, 'finish_reason': 'STOP', 'safety_ratings': []}, id='run-61ef5843-d3ea-4c5d-b303-d326c4662356-0', usage_metadata={'input_tokens': 113, 'output_tokens': 56, 'total_tokens': 169, 'input_token_details': {'cache_read': 0}}),\n",
       "  HumanMessage(content='What is that city famous for?', additional_kwargs={}, response_metadata={}, id='867a69c2-b8e4-4507-8a57-1098c3b3c29d'),\n",
       "  AIMessage(content=\"Munich is famous for many things! It's renowned for its beautiful Baroque architecture, lively beer gardens (especially during Oktoberfest), and rich history, including its role in the development of the Nazi party. It's also a major center for automotive manufacturing, being the home of BMW.\", additional_kwargs={}, response_metadata={'prompt_feedback': {'block_reason': 0, 'safety_ratings': []}, 'finish_reason': 'STOP', 'safety_ratings': []}, id='run-13e94d05-bad0-48c1-95b7-e49f964a136f-0', usage_metadata={'input_tokens': 178, 'output_tokens': 58, 'total_tokens': 236, 'input_token_details': {'cache_read': 0}})]}"
      ]
     },
     "execution_count": 157,
     "metadata": {},
     "output_type": "execute_result"
    }
   ],
   "source": [
    "graph.invoke(\n",
    "    {\"messages\": [HumanMessage(content=\"What is that city famous for?\")]},\n",
    "    config={\"configurable\": {\"thread_id\": 1}},\n",
    ")"
   ]
  },
  {
   "cell_type": "code",
   "execution_count": 158,
   "metadata": {},
   "outputs": [
    {
     "data": {
      "text/plain": [
       "{'messages': [HumanMessage(content='How is the weather in munich?', additional_kwargs={}, response_metadata={}, id='92f1586c-a6c3-4166-bfc0-9480c1830c36'),\n",
       "  AIMessage(content='', additional_kwargs={'function_call': {'name': 'get_weather', 'arguments': '{\"location\": \"munich\"}'}}, response_metadata={'prompt_feedback': {'block_reason': 0, 'safety_ratings': []}, 'finish_reason': 'STOP', 'safety_ratings': []}, id='run-f8427cf9-64b5-4cb2-95ae-3de65c959fc2-0', tool_calls=[{'name': 'get_weather', 'args': {'location': 'munich'}, 'id': '9e0d4f2f-c87d-4be3-a798-4f96fdbe015d', 'type': 'tool_call'}], usage_metadata={'input_tokens': 48, 'output_tokens': 16, 'total_tokens': 64, 'input_token_details': {'cache_read': 0}}),\n",
       "  ToolMessage(content=\"It's 15 degrees Celsius and cloudy.\", name='get_weather', id='0ad90faf-f16b-4aea-b5a1-679c53dac4ae', tool_call_id='9e0d4f2f-c87d-4be3-a798-4f96fdbe015d'),\n",
       "  AIMessage(content=\"It's 15 degrees Celsius and cloudy.\", additional_kwargs={}, response_metadata={'prompt_feedback': {'block_reason': 0, 'safety_ratings': []}, 'finish_reason': 'STOP', 'safety_ratings': []}, id='run-921f51ee-1bc6-40b4-bc71-22e52dbec8cb-0', usage_metadata={'input_tokens': 89, 'output_tokens': 11, 'total_tokens': 100, 'input_token_details': {'cache_read': 0}}),\n",
       "  HumanMessage(content='What would you recommend to do in that city than?', additional_kwargs={}, response_metadata={}, id='22702d4f-4d81-4b7f-b0be-73610db511b9'),\n",
       "  AIMessage(content=\"Since it's cloudy, you might enjoy visiting the Deutsches Museum, which offers a wide range of exhibits on science and technology. Alternatively, you could explore the historic Residenz, the former royal palace of Bavaria, which has beautiful courtyards and opulent rooms to discover.\", additional_kwargs={}, response_metadata={'prompt_feedback': {'block_reason': 0, 'safety_ratings': []}, 'finish_reason': 'STOP', 'safety_ratings': []}, id='run-61ef5843-d3ea-4c5d-b303-d326c4662356-0', usage_metadata={'input_tokens': 113, 'output_tokens': 56, 'total_tokens': 169, 'input_token_details': {'cache_read': 0}}),\n",
       "  HumanMessage(content='What is that city famous for?', additional_kwargs={}, response_metadata={}, id='867a69c2-b8e4-4507-8a57-1098c3b3c29d'),\n",
       "  AIMessage(content=\"Munich is famous for many things! It's renowned for its beautiful Baroque architecture, lively beer gardens (especially during Oktoberfest), and rich history, including its role in the development of the Nazi party. It's also a major center for automotive manufacturing, being the home of BMW.\", additional_kwargs={}, response_metadata={'prompt_feedback': {'block_reason': 0, 'safety_ratings': []}, 'finish_reason': 'STOP', 'safety_ratings': []}, id='run-13e94d05-bad0-48c1-95b7-e49f964a136f-0', usage_metadata={'input_tokens': 178, 'output_tokens': 58, 'total_tokens': 236, 'input_token_details': {'cache_read': 0}}),\n",
       "  HumanMessage(content='When is that city founded?', additional_kwargs={}, response_metadata={}, id='c70eb0b2-38ee-4001-8861-c9f43509328f'),\n",
       "  AIMessage(content='Munich was founded in 1158.', additional_kwargs={}, response_metadata={'prompt_feedback': {'block_reason': 0, 'safety_ratings': []}, 'finish_reason': 'STOP', 'safety_ratings': []}, id='run-788821ce-b355-4ad4-aa11-2fa1a70e4981-0', usage_metadata={'input_tokens': 244, 'output_tokens': 11, 'total_tokens': 255, 'input_token_details': {'cache_read': 0}})]}"
      ]
     },
     "execution_count": 158,
     "metadata": {},
     "output_type": "execute_result"
    }
   ],
   "source": [
    "graph.invoke(\n",
    "    {\"messages\": [HumanMessage(content=\"When is that city founded?\")]},\n",
    "    config={\"configurable\": {\"thread_id\": 1}},\n",
    ")"
   ]
  },
  {
   "cell_type": "code",
   "execution_count": 159,
   "metadata": {},
   "outputs": [
    {
     "data": {
      "text/plain": [
       "{'messages': [HumanMessage(content='How is the weather in munich?', additional_kwargs={}, response_metadata={}, id='92f1586c-a6c3-4166-bfc0-9480c1830c36'),\n",
       "  AIMessage(content='', additional_kwargs={'function_call': {'name': 'get_weather', 'arguments': '{\"location\": \"munich\"}'}}, response_metadata={'prompt_feedback': {'block_reason': 0, 'safety_ratings': []}, 'finish_reason': 'STOP', 'safety_ratings': []}, id='run-f8427cf9-64b5-4cb2-95ae-3de65c959fc2-0', tool_calls=[{'name': 'get_weather', 'args': {'location': 'munich'}, 'id': '9e0d4f2f-c87d-4be3-a798-4f96fdbe015d', 'type': 'tool_call'}], usage_metadata={'input_tokens': 48, 'output_tokens': 16, 'total_tokens': 64, 'input_token_details': {'cache_read': 0}}),\n",
       "  ToolMessage(content=\"It's 15 degrees Celsius and cloudy.\", name='get_weather', id='0ad90faf-f16b-4aea-b5a1-679c53dac4ae', tool_call_id='9e0d4f2f-c87d-4be3-a798-4f96fdbe015d'),\n",
       "  AIMessage(content=\"It's 15 degrees Celsius and cloudy.\", additional_kwargs={}, response_metadata={'prompt_feedback': {'block_reason': 0, 'safety_ratings': []}, 'finish_reason': 'STOP', 'safety_ratings': []}, id='run-921f51ee-1bc6-40b4-bc71-22e52dbec8cb-0', usage_metadata={'input_tokens': 89, 'output_tokens': 11, 'total_tokens': 100, 'input_token_details': {'cache_read': 0}}),\n",
       "  HumanMessage(content='What would you recommend to do in that city than?', additional_kwargs={}, response_metadata={}, id='22702d4f-4d81-4b7f-b0be-73610db511b9'),\n",
       "  AIMessage(content=\"Since it's cloudy, you might enjoy visiting the Deutsches Museum, which offers a wide range of exhibits on science and technology. Alternatively, you could explore the historic Residenz, the former royal palace of Bavaria, which has beautiful courtyards and opulent rooms to discover.\", additional_kwargs={}, response_metadata={'prompt_feedback': {'block_reason': 0, 'safety_ratings': []}, 'finish_reason': 'STOP', 'safety_ratings': []}, id='run-61ef5843-d3ea-4c5d-b303-d326c4662356-0', usage_metadata={'input_tokens': 113, 'output_tokens': 56, 'total_tokens': 169, 'input_token_details': {'cache_read': 0}}),\n",
       "  HumanMessage(content='What is that city famous for?', additional_kwargs={}, response_metadata={}, id='867a69c2-b8e4-4507-8a57-1098c3b3c29d'),\n",
       "  AIMessage(content=\"Munich is famous for many things! It's renowned for its beautiful Baroque architecture, lively beer gardens (especially during Oktoberfest), and rich history, including its role in the development of the Nazi party. It's also a major center for automotive manufacturing, being the home of BMW.\", additional_kwargs={}, response_metadata={'prompt_feedback': {'block_reason': 0, 'safety_ratings': []}, 'finish_reason': 'STOP', 'safety_ratings': []}, id='run-13e94d05-bad0-48c1-95b7-e49f964a136f-0', usage_metadata={'input_tokens': 178, 'output_tokens': 58, 'total_tokens': 236, 'input_token_details': {'cache_read': 0}}),\n",
       "  HumanMessage(content='When is that city founded?', additional_kwargs={}, response_metadata={}, id='c70eb0b2-38ee-4001-8861-c9f43509328f'),\n",
       "  AIMessage(content='Munich was founded in 1158.', additional_kwargs={}, response_metadata={'prompt_feedback': {'block_reason': 0, 'safety_ratings': []}, 'finish_reason': 'STOP', 'safety_ratings': []}, id='run-788821ce-b355-4ad4-aa11-2fa1a70e4981-0', usage_metadata={'input_tokens': 244, 'output_tokens': 11, 'total_tokens': 255, 'input_token_details': {'cache_read': 0}}),\n",
       "  HumanMessage(content='What is the time in that city?', additional_kwargs={}, response_metadata={}, id='9980abf7-0d8f-4584-8f41-6c31f5de814a'),\n",
       "  AIMessage(content='I can only provide weather information and cannot tell you the current time in Munich.', additional_kwargs={}, response_metadata={'prompt_feedback': {'block_reason': 0, 'safety_ratings': []}, 'finish_reason': 'STOP', 'safety_ratings': []}, id='run-82f7bf3c-0622-4363-96da-eb15a35b0785-0', usage_metadata={'input_tokens': 265, 'output_tokens': 16, 'total_tokens': 281, 'input_token_details': {'cache_read': 0}})]}"
      ]
     },
     "execution_count": 159,
     "metadata": {},
     "output_type": "execute_result"
    }
   ],
   "source": [
    "graph.invoke(\n",
    "    {\"messages\": [HumanMessage(content=\"What is the time in that city?\")]},\n",
    "    config={\"configurable\": {\"thread_id\": 1}},\n",
    ")"
   ]
  },
  {
   "cell_type": "code",
   "execution_count": null,
   "metadata": {},
   "outputs": [],
   "source": []
  }
 ],
 "metadata": {
  "kernelspec": {
   "display_name": ".venv",
   "language": "python",
   "name": "python3"
  },
  "language_info": {
   "codemirror_mode": {
    "name": "ipython",
    "version": 3
   },
   "file_extension": ".py",
   "mimetype": "text/x-python",
   "name": "python",
   "nbconvert_exporter": "python",
   "pygments_lexer": "ipython3",
   "version": "3.12.1"
  }
 },
 "nbformat": 4,
 "nbformat_minor": 2
}
